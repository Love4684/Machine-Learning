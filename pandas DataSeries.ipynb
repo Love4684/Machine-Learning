{
 "cells": [
  {
   "cell_type": "code",
   "execution_count": 43,
   "metadata": {},
   "outputs": [
    {
     "data": {
      "text/plain": [
       "0    5\n",
       "1    3\n",
       "2    6\n",
       "3    8\n",
       "4    2\n",
       "5    9\n",
       "dtype: int64"
      ]
     },
     "execution_count": 43,
     "metadata": {},
     "output_type": "execute_result"
    }
   ],
   "source": [
    "import pandas as pd\n",
    "data=[5,3,6,8,2,9]\n",
    "pd.Series(data)\n"
   ]
  },
  {
   "cell_type": "code",
   "execution_count": null,
   "metadata": {},
   "outputs": [],
   "source": []
  },
  {
   "cell_type": "code",
   "execution_count": 9,
   "metadata": {},
   "outputs": [
    {
     "name": "stdout",
     "output_type": "stream",
     "text": [
      "sum= 33\n"
     ]
    },
    {
     "data": {
      "text/plain": [
       "array([5, 3, 6, 8, 2, 9], dtype=int64)"
      ]
     },
     "execution_count": 9,
     "metadata": {},
     "output_type": "execute_result"
    }
   ],
   "source": [
    "import pandas as pd\n",
    "data=[5,3,6,8,2,9]\n",
    "s=pd.Series(data) #method()\n",
    "print(\"sum=\",s.sum())\n",
    "s.values #attribute\n",
    "#s.index"
   ]
  },
  {
   "cell_type": "code",
   "execution_count": 11,
   "metadata": {
    "scrolled": true
   },
   "outputs": [
    {
     "data": {
      "text/plain": [
       "son         Apple\n",
       "mon        banana\n",
       "tue         mango\n",
       "wed    watermelon\n",
       "dtype: object"
      ]
     },
     "execution_count": 11,
     "metadata": {},
     "output_type": "execute_result"
    }
   ],
   "source": [
    "import pandas as pd\n",
    "fruits=['Apple','banana','mango','watermelon']\n",
    "weekdays=['son','mon','tue','wed']\n",
    "pd.Series(data=fruits,index=weekdays)"
   ]
  },
  {
   "cell_type": "code",
   "execution_count": 14,
   "metadata": {},
   "outputs": [
    {
     "data": {
      "text/html": [
       "<div>\n",
       "<style scoped>\n",
       "    .dataframe tbody tr th:only-of-type {\n",
       "        vertical-align: middle;\n",
       "    }\n",
       "\n",
       "    .dataframe tbody tr th {\n",
       "        vertical-align: top;\n",
       "    }\n",
       "\n",
       "    .dataframe thead th {\n",
       "        text-align: right;\n",
       "    }\n",
       "</style>\n",
       "<table border=\"1\" class=\"dataframe\">\n",
       "  <thead>\n",
       "    <tr style=\"text-align: right;\">\n",
       "      <th></th>\n",
       "      <th>index</th>\n",
       "      <th>value</th>\n",
       "    </tr>\n",
       "  </thead>\n",
       "  <tbody>\n",
       "    <tr>\n",
       "      <th>0</th>\n",
       "      <td>1</td>\n",
       "      <td>5</td>\n",
       "    </tr>\n",
       "    <tr>\n",
       "      <th>1</th>\n",
       "      <td>2</td>\n",
       "      <td>4</td>\n",
       "    </tr>\n",
       "    <tr>\n",
       "      <th>2</th>\n",
       "      <td>3</td>\n",
       "      <td>3</td>\n",
       "    </tr>\n",
       "    <tr>\n",
       "      <th>3</th>\n",
       "      <td>4</td>\n",
       "      <td>5</td>\n",
       "    </tr>\n",
       "    <tr>\n",
       "      <th>4</th>\n",
       "      <td>6</td>\n",
       "      <td>8</td>\n",
       "    </tr>\n",
       "    <tr>\n",
       "      <th>5</th>\n",
       "      <td>7</td>\n",
       "      <td>9</td>\n",
       "    </tr>\n",
       "    <tr>\n",
       "      <th>6</th>\n",
       "      <td>8</td>\n",
       "      <td>5</td>\n",
       "    </tr>\n",
       "    <tr>\n",
       "      <th>7</th>\n",
       "      <td>9</td>\n",
       "      <td>18</td>\n",
       "    </tr>\n",
       "    <tr>\n",
       "      <th>8</th>\n",
       "      <td>10</td>\n",
       "      <td>12</td>\n",
       "    </tr>\n",
       "  </tbody>\n",
       "</table>\n",
       "</div>"
      ],
      "text/plain": [
       "   index  value\n",
       "0      1      5\n",
       "1      2      4\n",
       "2      3      3\n",
       "3      4      5\n",
       "4      6      8\n",
       "5      7      9\n",
       "6      8      5\n",
       "7      9     18\n",
       "8     10     12"
      ]
     },
     "execution_count": 14,
     "metadata": {},
     "output_type": "execute_result"
    }
   ],
   "source": [
    "import pandas as pd\n",
    "pd.read_csv(\"test1.csv\")"
   ]
  },
  {
   "cell_type": "code",
   "execution_count": 15,
   "metadata": {},
   "outputs": [
    {
     "data": {
      "text/plain": [
       "0     5\n",
       "1     4\n",
       "2     3\n",
       "3     5\n",
       "4     8\n",
       "5     9\n",
       "6     5\n",
       "7    18\n",
       "8    12\n",
       "Name: value, dtype: int64"
      ]
     },
     "execution_count": 15,
     "metadata": {},
     "output_type": "execute_result"
    }
   ],
   "source": [
    "import pandas as pd\n",
    "pd.read_csv(\"test1.csv\",squeeze=True,usecols=['value'])"
   ]
  },
  {
   "cell_type": "code",
   "execution_count": 52,
   "metadata": {},
   "outputs": [
    {
     "data": {
      "text/plain": [
       "0    5\n",
       "1    4\n",
       "2    3\n",
       "3    5\n",
       "4    8\n",
       "Name: value, dtype: int64"
      ]
     },
     "execution_count": 52,
     "metadata": {},
     "output_type": "execute_result"
    }
   ],
   "source": [
    "import pandas as pd\n",
    "values=pd.read_csv(\"test1.csv\",squeeze=True,usecols=['value'])\n",
    "values.head()"
   ]
  },
  {
   "cell_type": "code",
   "execution_count": 53,
   "metadata": {},
   "outputs": [
    {
     "name": "stdout",
     "output_type": "stream",
     "text": [
      "[ 5  4  3  5  8  9  5 18 12]\n",
      "False\n",
      "1\n",
      "(9,)\n"
     ]
    }
   ],
   "source": [
    "print(value.values)\n",
    "print(value.is_unique)\n",
    "print(value.ndim)\n",
    "print(value.shape)\n"
   ]
  },
  {
   "cell_type": "code",
   "execution_count": 29,
   "metadata": {},
   "outputs": [
    {
     "name": "stdout",
     "output_type": "stream",
     "text": [
      "2     3\n",
      "1     4\n",
      "0     5\n",
      "3     5\n",
      "6     5\n",
      "4     8\n",
      "5     9\n",
      "8    12\n",
      "7    18\n",
      "Name: value, dtype: int64\n",
      "2    3\n",
      "1    4\n",
      "0    5\n",
      "3    5\n",
      "6    5\n",
      "Name: value, dtype: int64\n"
     ]
    }
   ],
   "source": [
    "import pandas as pd\n",
    "data=pd.read_csv(\"test1.csv\",squeeze=True,usecols=['value'])\n",
    "print(data.sort_values())\n",
    "print(data.sort_values().head())\n"
   ]
  },
  {
   "cell_type": "code",
   "execution_count": 34,
   "metadata": {},
   "outputs": [
    {
     "name": "stdout",
     "output_type": "stream",
     "text": [
      "7    18\n",
      "8    12\n",
      "5     9\n",
      "4     8\n",
      "6     5\n",
      "3     5\n",
      "0     5\n",
      "1     4\n",
      "2     3\n",
      "Name: value, dtype: int64\n",
      "0    5\n",
      "1    4\n",
      "2    3\n",
      "3    5\n",
      "4    8\n",
      "Name: value, dtype: int64\n"
     ]
    }
   ],
   "source": [
    "import pandas as pd\n",
    "data=pd.read_csv(\"test1.csv\",squeeze=True,usecols=['value'])\n",
    "print(data.sort_values(ascending=False))\n",
    "print(data.head())"
   ]
  },
  {
   "cell_type": "code",
   "execution_count": 37,
   "metadata": {},
   "outputs": [
    {
     "name": "stdout",
     "output_type": "stream",
     "text": [
      "None\n",
      "7    18\n",
      "8    12\n",
      "5     9\n",
      "4     8\n",
      "6     5\n",
      "Name: value, dtype: int64\n"
     ]
    }
   ],
   "source": [
    "import pandas as pd\n",
    "data=pd.read_csv(\"test1.csv\",squeeze=True,usecols=['value'])\n",
    "print(data.sort_values(ascending=False,inplace=True))\n",
    "print(data.head())"
   ]
  },
  {
   "cell_type": "code",
   "execution_count": 49,
   "metadata": {},
   "outputs": [
    {
     "name": "stdout",
     "output_type": "stream",
     "text": [
      "8    10\n",
      "7     9\n",
      "6     8\n",
      "5     7\n",
      "4     6\n",
      "3     4\n",
      "2     3\n",
      "1     2\n",
      "0     1\n",
      "Name: index, dtype: int64\n",
      "None\n",
      "8    10\n",
      "7     9\n",
      "6     8\n",
      "5     7\n",
      "4     6\n",
      "Name: index, dtype: int64\n"
     ]
    }
   ],
   "source": [
    "import pandas as pd\n",
    "idx=pd.read_csv(\"test1.csv\",squeeze=True,usecols=['index'])\n",
    "print(idx.sort_index(ascending=False))\n",
    "print(idx.sort_index(ascending=False,inplace=True))\n",
    "print(idx.head())"
   ]
  },
  {
   "cell_type": "code",
   "execution_count": 51,
   "metadata": {},
   "outputs": [
    {
     "name": "stdout",
     "output_type": "stream",
     "text": [
      "0     5\n",
      "1     4\n",
      "2     3\n",
      "3     5\n",
      "4     8\n",
      "5     9\n",
      "6     5\n",
      "7    18\n",
      "8    12\n",
      "Name: value, dtype: int64\n",
      "9\n",
      "2    3\n",
      "3    5\n",
      "4    8\n",
      "5    9\n",
      "Name: value, dtype: int64\n",
      "3    5\n",
      "2    3\n",
      "1    4\n",
      "Name: value, dtype: int64\n"
     ]
    }
   ],
   "source": [
    "import pandas as pd\n",
    "values=pd.read_csv(\"test1.csv\",squeeze=True,usecols=['value'])\n",
    "print(values)\n",
    "print(values[5])\n",
    "print(values[2:6])\n",
    "print(values[[3,2,1]])"
   ]
  },
  {
   "cell_type": "code",
   "execution_count": 77,
   "metadata": {},
   "outputs": [
    {
     "name": "stdout",
     "output_type": "stream",
     "text": [
      "   index  value\n",
      "0      1      5\n",
      "1      2      4\n",
      "2      3      3\n",
      "3      4      5\n",
      "4      6      8\n",
      "5      7      9\n",
      "6      8      5\n",
      "7      9     18\n",
      "8     10     12\n",
      "index\n",
      "1      5\n",
      "2      4\n",
      "3      3\n",
      "4      5\n",
      "6      8\n",
      "7      9\n",
      "8      5\n",
      "9     18\n",
      "10    12\n",
      "Name: value, dtype: int64\n",
      "None\n",
      "12\n",
      "index\n",
      "4    5\n",
      "7    9\n",
      "Name: value, dtype: int64\n",
      "8\n"
     ]
    }
   ],
   "source": [
    "#index label\n",
    "import pandas as pd \n",
    "print(pd.read_csv(\"test1.csv\"))\n",
    "data=pd.read_csv(\"test1.csv\",index_col=\"index\",squeeze=True)\n",
    "print(data)\n",
    "print(data.sort_index(inplace=True))\n",
    "print(data[10])\n",
    "print(data.get([4,7]))\n",
    "print(data.get(6))\n"
   ]
  },
  {
   "cell_type": "markdown",
   "metadata": {},
   "source": [
    "import pandas as pd\n"
   ]
  },
  {
   "cell_type": "code",
   "execution_count": 6,
   "metadata": {},
   "outputs": [
    {
     "name": "stdout",
     "output_type": "stream",
     "text": [
      "0     5\n",
      "1     4\n",
      "2     3\n",
      "3     5\n",
      "4     8\n",
      "5     9\n",
      "6     5\n",
      "7    18\n",
      "8    12\n",
      "Name: value, dtype: int64\n",
      "5     3\n",
      "12    1\n",
      "9     1\n",
      "8     1\n",
      "4     1\n",
      "3     1\n",
      "18    1\n",
      "Name: value, dtype: int64\n",
      "0    5\n",
      "1    4\n",
      "2    3\n",
      "3    5\n",
      "4    8\n",
      "Name: value, dtype: int64\n",
      "7.666666666666667\n",
      "5.0\n",
      "7\n",
      "18\n"
     ]
    }
   ],
   "source": [
    "import pandas as pd\n",
    "MathData=pd.read_csv(\"test1.csv\",squeeze=True,usecols=['value'])\n",
    "print(MathData)\n",
    "print(MathData.value_counts())\n",
    "data=MathData.head()\n",
    "print(data)\n",
    "print(MathData.mean())\n",
    "print(data.mean())\n",
    "print(MathData.idxmax())\n",
    "print(MathData.max())\n"
   ]
  },
  {
   "cell_type": "code",
   "execution_count": 9,
   "metadata": {},
   "outputs": [
    {
     "name": "stdout",
     "output_type": "stream",
     "text": [
      "   index  value\n",
      "0      1      5\n",
      "1      2      4\n",
      "2      3      3\n",
      "3      4      5\n",
      "4      6      8\n",
      "5      7      9\n",
      "6      8      5\n",
      "7      9     18\n",
      "8     10     12\n",
      "index\n",
      "1      5\n",
      "2      4\n",
      "3      3\n",
      "4      5\n",
      "6      8\n",
      "7      9\n",
      "8      5\n",
      "9     18\n",
      "10    12\n",
      "Name: value, dtype: int64\n",
      "5     3\n",
      "12    1\n",
      "9     1\n",
      "8     1\n",
      "4     1\n",
      "3     1\n",
      "18    1\n",
      "Name: value, dtype: int64\n",
      "9 9\n"
     ]
    }
   ],
   "source": [
    "import pandas as pd \n",
    "print(pd.read_csv(\"test1.csv\"))\n",
    "data=pd.read_csv(\"test1.csv\",index_col=\"index\",squeeze=True)\n",
    "print(data)\n",
    "print(data.value_counts())\n",
    "print(data.value_counts().sum(),data.count())\n"
   ]
  },
  {
   "cell_type": "code",
   "execution_count": 16,
   "metadata": {},
   "outputs": [],
   "source": [
    "import pandas as pd\n",
    "data=pd.read_csv(\"test1.csv\",squeeze=True,index_col=\"index\")\n"
   ]
  },
  {
   "cell_type": "code",
   "execution_count": null,
   "metadata": {},
   "outputs": [],
   "source": []
  },
  {
   "cell_type": "code",
   "execution_count": 18,
   "metadata": {},
   "outputs": [],
   "source": [
    "def perform(number):\n",
    "    if number > 10:\n",
    "        print(\"number is greater than ten\")\n",
    "    elif number >= 5 and number <= 10:\n",
    "        print('number is between 5 and 10')\n",
    "    else: \n",
    "        print('number is less than ten')"
   ]
  },
  {
   "cell_type": "code",
   "execution_count": 19,
   "metadata": {},
   "outputs": [
    {
     "name": "stdout",
     "output_type": "stream",
     "text": [
      "number is between 5 and 10\n",
      "number is less than ten\n",
      "number is less than ten\n",
      "number is between 5 and 10\n",
      "number is between 5 and 10\n",
      "number is between 5 and 10\n",
      "number is between 5 and 10\n",
      "number is greater than ten\n",
      "number is greater than ten\n"
     ]
    },
    {
     "data": {
      "text/plain": [
       "index\n",
       "1     None\n",
       "2     None\n",
       "3     None\n",
       "4     None\n",
       "6     None\n",
       "7     None\n",
       "8     None\n",
       "9     None\n",
       "10    None\n",
       "Name: value, dtype: object"
      ]
     },
     "execution_count": 19,
     "metadata": {},
     "output_type": "execute_result"
    }
   ],
   "source": [
    "data.apply(perform)"
   ]
  },
  {
   "cell_type": "code",
   "execution_count": 23,
   "metadata": {},
   "outputs": [
    {
     "name": "stdout",
     "output_type": "stream",
     "text": [
      "0     5\n",
      "1     4\n",
      "2     3\n",
      "3     5\n",
      "4     8\n",
      "5     9\n",
      "6     5\n",
      "7    18\n",
      "8    12\n",
      "Name: value, dtype: int64\n"
     ]
    },
    {
     "data": {
      "text/plain": [
       "0    number is between 5 and 10\n",
       "1      number is less than five\n",
       "2      number is less than five\n",
       "3    number is between 5 and 10\n",
       "4    number is between 5 and 10\n",
       "5    number is between 5 and 10\n",
       "6    number is between 5 and 10\n",
       "7    number is greater than ten\n",
       "8    number is greater than ten\n",
       "Name: value, dtype: object"
      ]
     },
     "execution_count": 23,
     "metadata": {},
     "output_type": "execute_result"
    }
   ],
   "source": [
    "import pandas as pd\n",
    "data=pd.read_csv(\"test1.csv\",squeeze=True,usecols=['value'])\n",
    "print(data)\n",
    "def perform(number):\n",
    "    if number > 10:\n",
    "        return \"number is greater than ten\"\n",
    "    elif number >= 5 and number <= 10:\n",
    "        return 'number is between 5 and 10'\n",
    "    else: \n",
    "        return 'number is less than five'\n",
    "data.apply(perform)\n"
   ]
  },
  {
   "cell_type": "code",
   "execution_count": 25,
   "metadata": {},
   "outputs": [
    {
     "name": "stdout",
     "output_type": "stream",
     "text": [
      "index\n",
      "1      5\n",
      "2      4\n",
      "3      3\n",
      "4      5\n",
      "6      8\n",
      "7      9\n",
      "8      5\n",
      "9     18\n",
      "10    12\n",
      "Name: value, dtype: int64\n"
     ]
    },
    {
     "data": {
      "text/plain": [
       "index\n",
       "1      6\n",
       "2      5\n",
       "3      4\n",
       "4      6\n",
       "6      9\n",
       "7     10\n",
       "8      6\n",
       "9     19\n",
       "10    13\n",
       "Name: value, dtype: int64"
      ]
     },
     "execution_count": 25,
     "metadata": {},
     "output_type": "execute_result"
    }
   ],
   "source": [
    "import pandas as pd\n",
    "data=pd.read_csv(\"test1.csv\",squeeze=True,index_col=\"index\")\n",
    "print(data)\n",
    "data.apply(lambda value:value+1)"
   ]
  },
  {
   "cell_type": "code",
   "execution_count": null,
   "metadata": {},
   "outputs": [],
   "source": []
  }
 ],
 "metadata": {
  "kernelspec": {
   "display_name": "Python 3",
   "language": "python",
   "name": "python3"
  },
  "language_info": {
   "codemirror_mode": {
    "name": "ipython",
    "version": 3
   },
   "file_extension": ".py",
   "mimetype": "text/x-python",
   "name": "python",
   "nbconvert_exporter": "python",
   "pygments_lexer": "ipython3",
   "version": "3.7.0"
  }
 },
 "nbformat": 4,
 "nbformat_minor": 4
}
