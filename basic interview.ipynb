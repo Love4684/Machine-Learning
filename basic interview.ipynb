{
  "nbformat": 4,
  "nbformat_minor": 0,
  "metadata": {
    "colab": {
      "name": "Untitled5.ipynb",
      "provenance": []
    },
    "kernelspec": {
      "name": "python3",
      "display_name": "Python 3"
    },
    "language_info": {
      "name": "python"
    }
  },
  "cells": [
    {
      "cell_type": "code",
      "metadata": {
        "colab": {
          "base_uri": "https://localhost:8080/"
        },
        "id": "Ybb2uWCqPpy3",
        "outputId": "c951fc0d-b2c3-43e5-8fe7-dcb4d6436180"
      },
      "source": [
        "4.5/2"
      ],
      "execution_count": 1,
      "outputs": [
        {
          "output_type": "execute_result",
          "data": {
            "text/plain": [
              "2.25"
            ]
          },
          "metadata": {
            "tags": []
          },
          "execution_count": 1
        }
      ]
    },
    {
      "cell_type": "code",
      "metadata": {
        "colab": {
          "base_uri": "https://localhost:8080/"
        },
        "id": "ga7dbey3QAih",
        "outputId": "d837cb32-42a8-458e-a069-9e0516b17013"
      },
      "source": [
        " i = 1\n",
        "while True:\n",
        "  if i%3 == 0:\n",
        "    break \n",
        "  print(i)\n",
        "  i += 1 "
      ],
      "execution_count": 8,
      "outputs": [
        {
          "output_type": "stream",
          "text": [
            "1\n",
            "2\n"
          ],
          "name": "stdout"
        }
      ]
    },
    {
      "cell_type": "code",
      "metadata": {
        "colab": {
          "base_uri": "https://localhost:8080/"
        },
        "id": "EzmiBTK5UlC_",
        "outputId": "c2907989-da70-4727-94c9-ebaebb27d134"
      },
      "source": [
        "a = True\n",
        "b = False\n",
        "c = False\n",
        "\n",
        "if not a or b: \n",
        "\tprint (1) \n",
        "elif not a or not b and c: \n",
        "\tprint (2) \n",
        "elif not a or b or not b and a: \n",
        "\tprint (3) \n",
        "else: \n",
        "\tprint (4) \n"
      ],
      "execution_count": 9,
      "outputs": [
        {
          "output_type": "stream",
          "text": [
            "3\n"
          ],
          "name": "stdout"
        }
      ]
    },
    {
      "cell_type": "code",
      "metadata": {
        "colab": {
          "base_uri": "https://localhost:8080/"
        },
        "id": "zxlZ6iTXVEoe",
        "outputId": "739ac47f-68ad-454e-da2a-f9fd3fd90a86"
      },
      "source": [
        "L1 = [1, 1.33, 'GFG', 0, 'NO', None, 'G', True] \n",
        "val1, val2 = 0, '' \n",
        "for x in L1: \n",
        "\tif(type(x) == int or type(x) == float): \n",
        "\t\tval1 += x \n",
        "\telif(type(x) == str): \n",
        "\t\tval2 += x \n",
        "\telse: \n",
        "\t\tbreak\n",
        "print(val1, val2) \n"
      ],
      "execution_count": 10,
      "outputs": [
        {
          "output_type": "stream",
          "text": [
            "2.33 GFGNO\n"
          ],
          "name": "stdout"
        }
      ]
    },
    {
      "cell_type": "code",
      "metadata": {
        "colab": {
          "base_uri": "https://localhost:8080/"
        },
        "id": "gRK3WBsoVnU0",
        "outputId": "dedaf940-69ee-4359-eb78-71609e77774b"
      },
      "source": [
        "check1 = ['Learn', 'Quiz', 'Practice', 'Contribute'] \n",
        "check2 = check1 \n",
        "check3 = check1[:] \n",
        "\n",
        "check2[0] = 'Code'\n",
        "check3[1] = 'Mcq'\n",
        "\n",
        "count = 0\n",
        "for c in (check1, check2, check3): \n",
        "\tif c[0] == 'Code': \n",
        "\t\tcount += 1\n",
        "\tif c[1] == 'Mcq': \n",
        "\t\tcount += 10\n",
        "\n",
        "print (count) \n"
      ],
      "execution_count": 11,
      "outputs": [
        {
          "output_type": "stream",
          "text": [
            "12\n"
          ],
          "name": "stdout"
        }
      ]
    },
    {
      "cell_type": "code",
      "metadata": {
        "colab": {
          "base_uri": "https://localhost:8080/"
        },
        "id": "b42Y8X5_Vwun",
        "outputId": "f624a34c-8e1c-42bf-eef6-482227ae83e6"
      },
      "source": [
        "print (0.1 + 0.2 == 0.3)"
      ],
      "execution_count": 13,
      "outputs": [
        {
          "output_type": "stream",
          "text": [
            "False\n"
          ],
          "name": "stdout"
        }
      ]
    },
    {
      "cell_type": "markdown",
      "metadata": {
        "id": "URFrHWk1joaB"
      },
      "source": [
        "#Which module in Python supports regular expressions?\n",
        "re is a part of the standard library and can be imported using: import re"
      ]
    },
    {
      "cell_type": "markdown",
      "metadata": {
        "id": "v5y-9iD_jkh3"
      },
      "source": [
        "# Write a program to calculate number of upper case letters and number of lower case letters"
      ]
    },
    {
      "cell_type": "code",
      "metadata": {
        "colab": {
          "base_uri": "https://localhost:8080/"
        },
        "id": "QrfGsqxLgsHz",
        "outputId": "d1540d82-300f-49fc-8c57-47ea16973206"
      },
      "source": [
        "def up_low(s):      \n",
        "    u = sum(1 for i in s if i.isupper())\n",
        "    l = sum(1 for i in s if i.islower())\n",
        "    print( \"No. of Upper case characters : %s,No. of Lower case characters : %s\" % (u,l))\n",
        "\n",
        "s = input()\n",
        "up_low(s)"
      ],
      "execution_count": 15,
      "outputs": [
        {
          "output_type": "stream",
          "text": [
            "Hello Mr. Rogers, how are you this fine Tuesday?\n",
            "No. of Upper case characters : 4,No. of Lower case characters : 33\n"
          ],
          "name": "stdout"
        }
      ]
    },
    {
      "cell_type": "markdown",
      "metadata": {
        "id": "Mp36nfUIhrA3"
      },
      "source": [
        "\n",
        "# What are the supported data types in python?\n",
        "Numeric\n",
        "\n",
        "Sequence Type\n",
        "\n",
        "Boolean\n",
        "\n",
        "Set\n",
        "\n",
        "Dictionary\n",
        "\n",
        "\n"
      ]
    },
    {
      "cell_type": "markdown",
      "metadata": {
        "id": "WEPTQPmKiL0J"
      },
      "source": [
        "# How to convert a string to a float in python?\n",
        "\n",
        "In Python, we can use float() to convert String to float"
      ]
    },
    {
      "cell_type": "markdown",
      "metadata": {
        "id": "cQeDUFs7iYqJ"
      },
      "source": [
        "# Explain the concept of OOPS\n",
        "The oops concept focuses on writing the reusable code.\n",
        "\n",
        "object-oriented programming is an approach for modeling concrete, real-world things, like cars, as well as relations between things, like companies and employees, students and teachers, and so on. OOP models real-world entities as software objects that have some data associated with them and can perform certain functions."
      ]
    },
    {
      "cell_type": "markdown",
      "metadata": {
        "id": "q1_hNZ6yiwq3"
      },
      "source": [
        "# What is the use of break and continue in loops?\n",
        "\n",
        "The break statement is used to terminate the loop or statement in which it is present. After that, the control will pass to the statements that are present after the break statement, if available. If the break statement is present in the nested loop, then it terminates only those loops which contains break statement.\n",
        "\n",
        "Continue is also a loop control statement just like the break statement. continue statement is opposite to that of break statement, instead of terminating the loop, it forces to execute the next iteration of the loop."
      ]
    },
    {
      "cell_type": "markdown",
      "metadata": {
        "id": "fgVRci_Gi9R3"
      },
      "source": [
        "# Explain what is Recursion\n",
        "\n",
        "The process in which a function calls itself directly or indirectly is called recursion and the corresponding function is called as recursive function."
      ]
    },
    {
      "cell_type": "markdown",
      "metadata": {
        "id": "2NLh0M6ljI7H"
      },
      "source": [
        "# Name the tools which python uses to find bugs (if any).\n",
        "\n",
        "Pychecker and Pylint are the static analysis tools that help to find bugs in python"
      ]
    },
    {
      "cell_type": "markdown",
      "metadata": {
        "id": "epzEZejOyXIC"
      },
      "source": [
        "# A fair six-sided die is rolled twice. What is the probability of getting 2 on the first roll and not getting 4 on the second roll? a. 1/36 b. 5/36 c. 1/18 d. 1/6\n",
        "\n",
        "P(getting first 4) = 1/6\n",
        "\n",
        "P(no second 6) = 5/6\n",
        "\n",
        "Therefore P(getting first 4 and no second 6) = 1/6 x 5/6 = 5/36"
      ]
    },
    {
      "cell_type": "markdown",
      "metadata": {
        "id": "vDXt9wULy1sx"
      },
      "source": [
        "# 1. What is the probability of getting 4 or 5 heads for a coin flipped 5 times? or Atleast 4 Heads in 5 Coin Tosses\n",
        "# 2. Exactly 4 heads in 5 Coin Flips\n",
        "# 1. solution\n",
        "step 1 Find the total possible events of sample space S\n",
        "\n",
        "S = {HHHHH, HHHHT, HHHTH, HHHTT, HHTHH, HHTHT, HHTTH, HHTTT, HTHHH, HTHHT, HTHTH, HTHTT, HTTHH, HTTHT, HTTTH, HTTTT, THHHH, THHHT, THHTH, THHTT, THTHH, THTHT, THTTH, THTTT, TTHHH, TTHHT, TTHTH, TTHTT, TTTHH, TTTHT, TTTTH, TTTTT}\n",
        "\n",
        "S = 32\n",
        "\n",
        "step 2 Find the expected or successful events A\n",
        "\n",
        "A = {HHHHH, HHHHT, HHHTH, HHTHH, HTHHH, THHHH}\n",
        "\n",
        "A = 6\n",
        "\n",
        "step 3 Find the probability\n",
        "\n",
        "P(A) =Successful Events/Total Events of Sample Space\n",
        "\n",
        "= 6/32\n",
        "\n",
        "\n",
        "= 0.19\n",
        "P(A) = 0.19\n",
        "\n",
        "0.19 is the probability of getting 4 Heads in 5 tosses.\n",
        "\n",
        "# 2. solution\n",
        "\n",
        "A = {HHHHT, HHHTH, HHTHH, HTHHH, THHHH}\n",
        "\n",
        "A = 5\n",
        "\n",
        "P(A) = 5/32\n",
        "= 0.16\n",
        "\n",
        "P(A) = 0.16"
      ]
    },
    {
      "cell_type": "markdown",
      "metadata": {
        "id": "N-krhVolFk28"
      },
      "source": [
        "# A correlation between age and health of a person found to be -1.08. On the basis of this you would tell the doctors that: a. The age is good predictor of health b. The age is poor predictor of health c. None of these\n",
        "\n",
        "Solution: C\n",
        "\n",
        "Correlation coefficient range is between [-1 ,1]. So -1.09 is not possible."
      ]
    },
    {
      "cell_type": "markdown",
      "metadata": {
        "id": "ua32qBsxErz0"
      },
      "source": [
        "# Explain in your own words (In less than 300 words) the following concepts: \n",
        "\n",
        "1. Type 1 Error - Type I Error (False Positive Error)\n",
        "\n",
        "A type 1 error occurs when the null hypothesisis true, but is rejected.  Let me say this again, atype 1 error occurs when the null hypothesis is actually true, but was rejected as falseby the testing.\n",
        "\n",
        "2. P-Values - \n",
        "\n",
        "p-values are used as a tool to challenge our initial belief (null hypothesis) when the result is statistically significant. \n",
        "\n",
        "In statistics, the p-value is the probability of obtaining results at least as extreme as the observed results of a statistical hypothesis test, assuming that the null hypothesis is correct. \n",
        "\n",
        "3. Difference between Mode, Mean and Median - \n",
        "\n",
        "The average taken of given observations is called Mean. \t\n",
        "\n",
        "The middle number in a given set of observations is called Median.\t\n",
        "\n",
        "The most frequently occurred number in a given set of observations is called mode.\n",
        "\n",
        "4. Data Science - \n",
        "\n",
        "Data science is the study of data. It involves developing methods of recording, storing, and analyzing data to effectively extract useful information. The goal of data science is to gain insights and knowledge from any type of data — both structured and unstructured."
      ]
    },
    {
      "cell_type": "markdown",
      "metadata": {
        "id": "V3xNtsLjP9vt"
      },
      "source": [
        "# There is a lot of hype surrounding Machine learning / Data Science. Share 5 points regarding what you think is wrong with this field.\n",
        "\n",
        "1. A Full-Time Data Science Degree is a Must for Making the Transition\n",
        "2. Ph.D is Mandatory to Become a Data Scientist\n",
        "3. Learning a Tool is Enough to Become a Data Scientist\n",
        "4. Deep Learning Requires Computational Power that Only Top Companies Have\n",
        "5. Data Science is Only About Building Predictive Models"
      ]
    }
  ]
}