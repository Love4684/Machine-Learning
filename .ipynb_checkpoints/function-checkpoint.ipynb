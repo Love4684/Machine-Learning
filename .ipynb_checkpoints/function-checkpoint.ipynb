{
 "cells": [
  {
   "cell_type": "code",
   "execution_count": 2,
   "metadata": {},
   "outputs": [
    {
     "name": "stdout",
     "output_type": "stream",
     "text": [
      "enter first value:4\n",
      "enter 2nd value:5\n",
      "sum=  9\n"
     ]
    }
   ],
   "source": [
    "def add():\n",
    "    var1=int(input('enter first value:'))\n",
    "    var2=int(input('enter 2nd value:'))\n",
    "    var3=var1+var2\n",
    "    print(\"sum= \", var3)\n",
    "add()"
   ]
  },
  {
   "cell_type": "code",
   "execution_count": 3,
   "metadata": {},
   "outputs": [
    {
     "name": "stdout",
     "output_type": "stream",
     "text": [
      "sub=  7\n"
     ]
    }
   ],
   "source": [
    "def sub(var1,var2):\n",
    "    var3=var1-var2\n",
    "    print(\"sub= \", var3)\n",
    "sub(9,2)\n",
    "\n",
    "\n",
    "    "
   ]
  },
  {
   "cell_type": "code",
   "execution_count": 7,
   "metadata": {},
   "outputs": [
    {
     "name": "stdout",
     "output_type": "stream",
     "text": [
      "enter first value:4\n",
      "enter 2nd value:5\n",
      "multi= 20\n"
     ]
    }
   ],
   "source": [
    "def multi():\n",
    "    var1=int(input('enter first value:'))\n",
    "    var2=int(input('enter 2nd value:'))\n",
    "    var3=var1*var2\n",
    "    return var3\n",
    "var4=multi()\n",
    "print('multi=', var4)"
   ]
  },
  {
   "cell_type": "code",
   "execution_count": 8,
   "metadata": {},
   "outputs": [
    {
     "name": "stdout",
     "output_type": "stream",
     "text": [
      "divison= 5.0\n"
     ]
    }
   ],
   "source": [
    "def divison(var1,var2):\n",
    "    var3=var1/var2\n",
    "    return var3\n",
    "var4=divison(15,3)\n",
    "print(\"divison=\",var4)"
   ]
  },
  {
   "cell_type": "code",
   "execution_count": null,
   "metadata": {},
   "outputs": [],
   "source": []
  },
  {
   "cell_type": "code",
   "execution_count": null,
   "metadata": {},
   "outputs": [],
   "source": []
  }
 ],
 "metadata": {
  "kernelspec": {
   "display_name": "Python 3",
   "language": "python",
   "name": "python3"
  },
  "language_info": {
   "codemirror_mode": {
    "name": "ipython",
    "version": 3
   },
   "file_extension": ".py",
   "mimetype": "text/x-python",
   "name": "python",
   "nbconvert_exporter": "python",
   "pygments_lexer": "ipython3",
   "version": "3.7.0"
  }
 },
 "nbformat": 4,
 "nbformat_minor": 4
}
