{
 "cells": [
  {
   "cell_type": "code",
   "execution_count": 3,
   "metadata": {},
   "outputs": [
    {
     "name": "stdout",
     "output_type": "stream",
     "text": [
      "value of var is 1\n",
      "value of var is 2\n",
      "value of var is 3\n",
      "value of var is 4\n",
      "value of var is 5\n",
      "value of var is 6\n",
      "value of var is 7\n",
      "value of var is 8\n",
      "value of var is 9\n",
      "complete\n"
     ]
    }
   ],
   "source": [
    "for var in range(1,10):\n",
    "    print('value of var is '+ str(var))\n",
    "print(\"complete\")"
   ]
  },
  {
   "cell_type": "code",
   "execution_count": 5,
   "metadata": {},
   "outputs": [
    {
     "name": "stdout",
     "output_type": "stream",
     "text": [
      "no is 1\t square is 1\t and cube is 1\n",
      "no is 2\t square is 4\t and cube is 8\n",
      "no is 3\t square is 9\t and cube is 27\n",
      "no is 4\t square is 16\t and cube is 64\n",
      "no is 5\t square is 25\t and cube is 125\n",
      "no is 6\t square is 36\t and cube is 216\n",
      "no is 7\t square is 49\t and cube is 343\n",
      "no is 8\t square is 64\t and cube is 512\n",
      "no is 9\t square is 81\t and cube is 729\n",
      "complete\n"
     ]
    }
   ],
   "source": [
    "for var in range(1,10):\n",
    "    print('no is {}\\t square is {}\\t and cube is {}' .format(var,var**2,var**3))\n",
    "print('complete')"
   ]
  },
  {
   "cell_type": "code",
   "execution_count": null,
   "metadata": {},
   "outputs": [],
   "source": []
  }
 ],
 "metadata": {
  "kernelspec": {
   "display_name": "Python 3",
   "language": "python",
   "name": "python3"
  },
  "language_info": {
   "codemirror_mode": {
    "name": "ipython",
    "version": 3
   },
   "file_extension": ".py",
   "mimetype": "text/x-python",
   "name": "python",
   "nbconvert_exporter": "python",
   "pygments_lexer": "ipython3",
   "version": "3.7.0"
  }
 },
 "nbformat": 4,
 "nbformat_minor": 4
}
